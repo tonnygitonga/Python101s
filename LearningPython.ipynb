{
 "cells": [
  {
   "cell_type": "code",
   "execution_count": 2,
   "id": "bfda86a3",
   "metadata": {},
   "outputs": [
    {
     "name": "stdout",
     "output_type": "stream",
     "text": [
      "This is Python\n"
     ]
    }
   ],
   "source": [
    "print(\"This is Python\")"
   ]
  },
  {
   "cell_type": "code",
   "execution_count": 15,
   "id": "4f8a113e",
   "metadata": {},
   "outputs": [
    {
     "name": "stdout",
     "output_type": "stream",
     "text": [
      "    /\\ \n",
      "   /  \\ \n",
      "  /    \\ \n",
      " /      \\ \n",
      "/________\\ \n",
      "\n",
      "Drawing a simple triangle in Python!\n"
     ]
    }
   ],
   "source": [
    "print(\"    /\\ \")\n",
    "print(\"   /  \\ \")\n",
    "print(\"  /    \\ \")\n",
    "print(\" /      \\ \")\n",
    "print(\"/________\\ \\n\") #Make sure to keep a whitespace btn the \\ and the \"\"\n",
    "print(\"Drawing a simple triangle in Python!\")"
   ]
  },
  {
   "cell_type": "code",
   "execution_count": 65,
   "id": "cd197d7b",
   "metadata": {},
   "outputs": [
    {
     "name": "stdout",
     "output_type": "stream",
     "text": [
      "______  ____       \n",
      "   |   |    | |\\  | |\\  | \\   / \n",
      "   |   |    | | \\ | | \\ |  \\ /  \n",
      "   |   |____| |  \\| |  \\|   /...   \n",
      "\n",
      "           That's me!\n"
     ]
    }
   ],
   "source": [
    "print(\"______  ____       \")\n",
    "print(\"   |   |    | |\\  | |\\  | \\   / \")\n",
    "print(\"   |   |    | | \\ | | \\ |  \\ /  \")\n",
    "print(\"   |   |____| |  \\| |  \\|   /...   \\n\")\n",
    "print(\"           That's me!\")"
   ]
  },
  {
   "cell_type": "code",
   "execution_count": 24,
   "id": "16ea3e05",
   "metadata": {},
   "outputs": [
    {
     "name": "stdout",
     "output_type": "stream",
     "text": [
      "  ______________\n",
      " |              |\n",
      " |              |\n",
      " |              |\n",
      " |              |\n",
      " |______________|\n"
     ]
    }
   ],
   "source": [
    "print(\"  ______________\")\n",
    "print(\" |              |\")\n",
    "print(\" |              |\")\n",
    "print(\" |              |\") #Sort of a square😂\n",
    "print(\" |              |\")\n",
    "print(\" |______________|\")"
   ]
  },
  {
   "cell_type": "code",
   "execution_count": 61,
   "id": "fa2cd14e",
   "metadata": {},
   "outputs": [
    {
     "name": "stdout",
     "output_type": "stream",
     "text": [
      "My name is Tonny G and I'm 20 years old.\n",
      "I'm 183.2 cm tall!\n",
      "I am currently Dating.\n",
      "I enjoy playing FIFA.\n"
     ]
    },
    {
     "data": {
      "text/plain": [
       "True"
      ]
     },
     "execution_count": 61,
     "metadata": {},
     "output_type": "execute_result"
    }
   ],
   "source": [
    "name = \"Tonny G\" \n",
    "age = 20\n",
    "height = 183.2\n",
    "occupation = \"student\"\n",
    "status = \"Dating\"\n",
    "hobby = \"FIFA\"\n",
    "is_male = True #boolean\n",
    "\n",
    "print(\"My name is \" + name + \" and I'm \" + str(age) + \" years old.\") #convert int age to str\n",
    "print(\"I'm \" + str(height) +\" cm tall!\") #Always keep a space btn the variable name and the + signs\n",
    "print(\"I am currently \" + status + \".\")\n",
    "print(\"I enjoy playing \" + hobby + \".\") #You always need text after a variable name\n",
    "is_male #will return True"
   ]
  },
  {
   "cell_type": "code",
   "execution_count": 63,
   "id": "d90ce1de",
   "metadata": {},
   "outputs": [
    {
     "name": "stdout",
     "output_type": "stream",
     "text": [
      "25\n"
     ]
    }
   ],
   "source": [
    "print(25) #numbers don't require \"\""
   ]
  },
  {
   "cell_type": "code",
   "execution_count": 64,
   "id": "3bf199c0",
   "metadata": {},
   "outputs": [
    {
     "name": "stdout",
     "output_type": "stream",
     "text": [
      "3.14\n"
     ]
    }
   ],
   "source": [
    "print(3.14)"
   ]
  },
  {
   "cell_type": "code",
   "execution_count": 68,
   "id": "84c7d6a0",
   "metadata": {},
   "outputs": [
    {
     "name": "stdout",
     "output_type": "stream",
     "text": [
      " \"I'm printing out quotation marks\" \n"
     ]
    }
   ],
   "source": [
    "print(\" \\\"I'm printing out quotation marks\\\" \")"
   ]
  },
  {
   "cell_type": "code",
   "execution_count": 81,
   "id": "d75053b8",
   "metadata": {},
   "outputs": [
    {
     "name": "stdout",
     "output_type": "stream",
     "text": [
      "The World Cup\n"
     ]
    }
   ],
   "source": [
    "event = \"The World Cup\" #Print a string using its name. \n",
    "print(event)"
   ]
  },
  {
   "cell_type": "code",
   "execution_count": 71,
   "id": "ca880585",
   "metadata": {},
   "outputs": [
    {
     "name": "stdout",
     "output_type": "stream",
     "text": [
      "The World Cup is epic\n"
     ]
    }
   ],
   "source": [
    "event = \"The World Cup\"\n",
    "print(event + \" is epic\") #concatenation"
   ]
  },
  {
   "cell_type": "code",
   "execution_count": 85,
   "id": "5f2bf136",
   "metadata": {},
   "outputs": [
    {
     "name": "stdout",
     "output_type": "stream",
     "text": [
      "THE WORLD CUP!\n"
     ]
    }
   ],
   "source": [
    "event = \"The World Cup!\"\n",
    "print(event.upper()) #Function converts it to uppercase"
   ]
  },
  {
   "cell_type": "code",
   "execution_count": 75,
   "id": "04750ae7",
   "metadata": {},
   "outputs": [
    {
     "name": "stdout",
     "output_type": "stream",
     "text": [
      "the world cup!\n"
     ]
    }
   ],
   "source": [
    "event = \"The World Cup!\"\n",
    "print(event.lower())"
   ]
  },
  {
   "cell_type": "code",
   "execution_count": 78,
   "id": "ba008683",
   "metadata": {},
   "outputs": [
    {
     "name": "stdout",
     "output_type": "stream",
     "text": [
      "False\n"
     ]
    }
   ],
   "source": [
    "event = \"The World Cup!\"\n",
    "print(event.isupper()) #checks if it's in uppercase"
   ]
  },
  {
   "cell_type": "code",
   "execution_count": 84,
   "id": "b6769697",
   "metadata": {},
   "outputs": [
    {
     "name": "stdout",
     "output_type": "stream",
     "text": [
      "10\n"
     ]
    }
   ],
   "source": [
    "team = \"chelsea fc\"\n",
    "print(len(team)) #length of the text"
   ]
  },
  {
   "cell_type": "code",
   "execution_count": 86,
   "id": "2e3d8026",
   "metadata": {},
   "outputs": [
    {
     "name": "stdout",
     "output_type": "stream",
     "text": [
      "c\n"
     ]
    }
   ],
   "source": [
    "print(team[0]) #will output the 1st letter"
   ]
  },
  {
   "cell_type": "code",
   "execution_count": 96,
   "id": "1a570832",
   "metadata": {},
   "outputs": [
    {
     "name": "stdout",
     "output_type": "stream",
     "text": [
      "8\n"
     ]
    }
   ],
   "source": [
    "print(team.index(\"f\")) #retruns index position of the character"
   ]
  },
  {
   "cell_type": "code",
   "execution_count": 97,
   "id": "5b6f54b3",
   "metadata": {},
   "outputs": [
    {
     "name": "stdout",
     "output_type": "stream",
     "text": [
      "4\n"
     ]
    }
   ],
   "source": [
    "print(event.index(\"World\")) #returns index position where it starts"
   ]
  },
  {
   "cell_type": "code",
   "execution_count": 99,
   "id": "2e22905d",
   "metadata": {},
   "outputs": [
    {
     "name": "stdout",
     "output_type": "stream",
     "text": [
      "LM10\n"
     ]
    }
   ],
   "source": [
    "player = \"Messi\"\n",
    "print(player.replace(\"Messi\",\"LM10\")) #Replaces the string"
   ]
  },
  {
   "cell_type": "code",
   "execution_count": 100,
   "id": "90a0ebec",
   "metadata": {},
   "outputs": [
    {
     "name": "stdout",
     "output_type": "stream",
     "text": [
      "-13.45\n"
     ]
    }
   ],
   "source": [
    "print(-13.45) #can print -ve numbers"
   ]
  },
  {
   "cell_type": "code",
   "execution_count": 102,
   "id": "ba68d7fa",
   "metadata": {},
   "outputs": [
    {
     "name": "stdout",
     "output_type": "stream",
     "text": [
      "468\n"
     ]
    }
   ],
   "source": [
    "print(345 + 123) #addition"
   ]
  },
  {
   "cell_type": "code",
   "execution_count": 103,
   "id": "f2b6b146",
   "metadata": {},
   "outputs": [
    {
     "name": "stdout",
     "output_type": "stream",
     "text": [
      "134\n"
     ]
    }
   ],
   "source": [
    "print(234 - 100) #subtraction"
   ]
  },
  {
   "cell_type": "code",
   "execution_count": 104,
   "id": "0edcf67f",
   "metadata": {},
   "outputs": [
    {
     "name": "stdout",
     "output_type": "stream",
     "text": [
      "50.0\n"
     ]
    }
   ],
   "source": [
    "print(100/2) #division"
   ]
  },
  {
   "cell_type": "code",
   "execution_count": 105,
   "id": "4f3f9f05",
   "metadata": {},
   "outputs": [
    {
     "name": "stdout",
     "output_type": "stream",
     "text": [
      "49\n"
     ]
    }
   ],
   "source": [
    "print(7*7) #multiplication"
   ]
  },
  {
   "cell_type": "code",
   "execution_count": 107,
   "id": "4cf31f4f",
   "metadata": {},
   "outputs": [
    {
     "name": "stdout",
     "output_type": "stream",
     "text": [
      "7\n"
     ]
    }
   ],
   "source": [
    "print(5^2) #..."
   ]
  },
  {
   "cell_type": "code",
   "execution_count": 109,
   "id": "5f837593",
   "metadata": {},
   "outputs": [
    {
     "name": "stdout",
     "output_type": "stream",
     "text": [
      "3\n"
     ]
    }
   ],
   "source": [
    "print(23 % 4) #outputs the remainder"
   ]
  },
  {
   "cell_type": "code",
   "execution_count": 113,
   "id": "c3df722a",
   "metadata": {},
   "outputs": [
    {
     "name": "stdout",
     "output_type": "stream",
     "text": [
      "My name is Tonny and I weigh 75kgs.\n"
     ]
    }
   ],
   "source": [
    "name = \"Tonny\"\n",
    "weight = 75\n",
    "print(\"My name is \" + name + \" and I weigh \" + str(weight) + \"kgs.\") #str and num in the same line"
   ]
  },
  {
   "cell_type": "code",
   "execution_count": 114,
   "id": "0bc9a0fa",
   "metadata": {},
   "outputs": [
    {
     "name": "stdout",
     "output_type": "stream",
     "text": [
      "15\n"
     ]
    }
   ],
   "source": [
    "temp = -15\n",
    "print(abs(temp)) #absolute value"
   ]
  },
  {
   "cell_type": "code",
   "execution_count": 115,
   "id": "71c27326",
   "metadata": {},
   "outputs": [
    {
     "name": "stdout",
     "output_type": "stream",
     "text": [
      "32\n"
     ]
    }
   ],
   "source": [
    "print(pow(2,5)) #power"
   ]
  },
  {
   "cell_type": "code",
   "execution_count": 116,
   "id": "adecbc7a",
   "metadata": {},
   "outputs": [
    {
     "name": "stdout",
     "output_type": "stream",
     "text": [
      "10\n"
     ]
    }
   ],
   "source": [
    "print(max(1, 2, 3, 4, 5, 6, 7, 8, 9, 10)) #max num"
   ]
  },
  {
   "cell_type": "code",
   "execution_count": 117,
   "id": "e5a7b5fc",
   "metadata": {},
   "outputs": [
    {
     "name": "stdout",
     "output_type": "stream",
     "text": [
      "1\n"
     ]
    }
   ],
   "source": [
    "print(min(1, 2, 3, 4, 5, 6, 7, 8, 9, 10)) #min num"
   ]
  },
  {
   "cell_type": "code",
   "execution_count": 118,
   "id": "9c168fec",
   "metadata": {},
   "outputs": [
    {
     "name": "stdout",
     "output_type": "stream",
     "text": [
      "5\n"
     ]
    }
   ],
   "source": [
    "print(round(5.4)) #rounding off"
   ]
  },
  {
   "cell_type": "code",
   "execution_count": 119,
   "id": "c894c5be",
   "metadata": {},
   "outputs": [
    {
     "name": "stdout",
     "output_type": "stream",
     "text": [
      "6\n"
     ]
    }
   ],
   "source": [
    "print(round(5.5))"
   ]
  },
  {
   "cell_type": "code",
   "execution_count": 120,
   "id": "12c58cdc",
   "metadata": {},
   "outputs": [
    {
     "name": "stdout",
     "output_type": "stream",
     "text": [
      "6\n"
     ]
    }
   ],
   "source": [
    "print(round(5.8))"
   ]
  },
  {
   "cell_type": "code",
   "execution_count": 123,
   "id": "ee87e989",
   "metadata": {},
   "outputs": [
    {
     "name": "stdout",
     "output_type": "stream",
     "text": [
      "4\n"
     ]
    }
   ],
   "source": [
    "from math import *   #imports math module\n",
    "print(floor(4.5))    #leaest decimal value"
   ]
  },
  {
   "cell_type": "code",
   "execution_count": 125,
   "id": "4c2e1274",
   "metadata": {},
   "outputs": [
    {
     "name": "stdout",
     "output_type": "stream",
     "text": [
      "5\n"
     ]
    }
   ],
   "source": [
    "print(ceil(4.5))  #rounds up"
   ]
  },
  {
   "cell_type": "code",
   "execution_count": 127,
   "id": "d3b11750",
   "metadata": {},
   "outputs": [
    {
     "name": "stdout",
     "output_type": "stream",
     "text": [
      "Requirement already satisfied: jupyterthemes in c:\\users\\tonnzz\\anaconda3\\lib\\site-packages (0.20.0)\n",
      "Requirement already satisfied: notebook>=5.6.0 in c:\\users\\tonnzz\\anaconda3\\lib\\site-packages (from jupyterthemes) (6.4.8)\n",
      "Requirement already satisfied: matplotlib>=1.4.3 in c:\\users\\tonnzz\\anaconda3\\lib\\site-packages (from jupyterthemes) (3.5.1)\n",
      "Requirement already satisfied: lesscpy>=0.11.2 in c:\\users\\tonnzz\\anaconda3\\lib\\site-packages (from jupyterthemes) (0.15.1)\n",
      "Requirement already satisfied: ipython>=5.4.1 in c:\\users\\tonnzz\\anaconda3\\lib\\site-packages (from jupyterthemes) (8.2.0)\n",
      "Requirement already satisfied: jupyter-core in c:\\users\\tonnzz\\anaconda3\\lib\\site-packages (from jupyterthemes) (4.9.2)\n",
      "Requirement already satisfied: pickleshare in c:\\users\\tonnzz\\anaconda3\\lib\\site-packages (from ipython>=5.4.1->jupyterthemes) (0.7.5)\n",
      "Requirement already satisfied: matplotlib-inline in c:\\users\\tonnzz\\anaconda3\\lib\\site-packages (from ipython>=5.4.1->jupyterthemes) (0.1.2)\n",
      "Requirement already satisfied: pygments>=2.4.0 in c:\\users\\tonnzz\\anaconda3\\lib\\site-packages (from ipython>=5.4.1->jupyterthemes) (2.11.2)\n",
      "Requirement already satisfied: setuptools>=18.5 in c:\\users\\tonnzz\\anaconda3\\lib\\site-packages (from ipython>=5.4.1->jupyterthemes) (61.2.0)\n",
      "Requirement already satisfied: colorama in c:\\users\\tonnzz\\anaconda3\\lib\\site-packages (from ipython>=5.4.1->jupyterthemes) (0.4.4)\n",
      "Requirement already satisfied: backcall in c:\\users\\tonnzz\\anaconda3\\lib\\site-packages (from ipython>=5.4.1->jupyterthemes) (0.2.0)\n",
      "Requirement already satisfied: traitlets>=5 in c:\\users\\tonnzz\\anaconda3\\lib\\site-packages (from ipython>=5.4.1->jupyterthemes) (5.1.1)\n",
      "Requirement already satisfied: prompt-toolkit!=3.0.0,!=3.0.1,<3.1.0,>=2.0.0 in c:\\users\\tonnzz\\anaconda3\\lib\\site-packages (from ipython>=5.4.1->jupyterthemes) (3.0.20)\n",
      "Requirement already satisfied: stack-data in c:\\users\\tonnzz\\anaconda3\\lib\\site-packages (from ipython>=5.4.1->jupyterthemes) (0.2.0)\n",
      "Requirement already satisfied: decorator in c:\\users\\tonnzz\\anaconda3\\lib\\site-packages (from ipython>=5.4.1->jupyterthemes) (5.1.1)\n",
      "Requirement already satisfied: jedi>=0.16 in c:\\users\\tonnzz\\anaconda3\\lib\\site-packages (from ipython>=5.4.1->jupyterthemes) (0.18.1)\n",
      "Requirement already satisfied: parso<0.9.0,>=0.8.0 in c:\\users\\tonnzz\\anaconda3\\lib\\site-packages (from jedi>=0.16->ipython>=5.4.1->jupyterthemes) (0.8.3)\n",
      "Requirement already satisfied: ply in c:\\users\\tonnzz\\anaconda3\\lib\\site-packages (from lesscpy>=0.11.2->jupyterthemes) (3.11)\n",
      "Requirement already satisfied: numpy>=1.17 in c:\\users\\tonnzz\\anaconda3\\lib\\site-packages (from matplotlib>=1.4.3->jupyterthemes) (1.21.5)\n",
      "Requirement already satisfied: kiwisolver>=1.0.1 in c:\\users\\tonnzz\\anaconda3\\lib\\site-packages (from matplotlib>=1.4.3->jupyterthemes) (1.3.2)\n",
      "Requirement already satisfied: python-dateutil>=2.7 in c:\\users\\tonnzz\\anaconda3\\lib\\site-packages (from matplotlib>=1.4.3->jupyterthemes) (2.8.2)\n",
      "Requirement already satisfied: pyparsing>=2.2.1 in c:\\users\\tonnzz\\anaconda3\\lib\\site-packages (from matplotlib>=1.4.3->jupyterthemes) (3.0.4)\n",
      "Requirement already satisfied: packaging>=20.0 in c:\\users\\tonnzz\\anaconda3\\lib\\site-packages (from matplotlib>=1.4.3->jupyterthemes) (21.3)\n",
      "Requirement already satisfied: cycler>=0.10 in c:\\users\\tonnzz\\anaconda3\\lib\\site-packages (from matplotlib>=1.4.3->jupyterthemes) (0.11.0)\n",
      "Requirement already satisfied: fonttools>=4.22.0 in c:\\users\\tonnzz\\anaconda3\\lib\\site-packages (from matplotlib>=1.4.3->jupyterthemes) (4.25.0)\n",
      "Requirement already satisfied: pillow>=6.2.0 in c:\\users\\tonnzz\\anaconda3\\lib\\site-packages (from matplotlib>=1.4.3->jupyterthemes) (9.0.1)\n",
      "Requirement already satisfied: prometheus-client in c:\\users\\tonnzz\\anaconda3\\lib\\site-packages (from notebook>=5.6.0->jupyterthemes) (0.13.1)\n",
      "Requirement already satisfied: argon2-cffi in c:\\users\\tonnzz\\anaconda3\\lib\\site-packages (from notebook>=5.6.0->jupyterthemes) (21.3.0)\n",
      "Requirement already satisfied: pyzmq>=17 in c:\\users\\tonnzz\\anaconda3\\lib\\site-packages (from notebook>=5.6.0->jupyterthemes) (22.3.0)\n",
      "Requirement already satisfied: Send2Trash>=1.8.0 in c:\\users\\tonnzz\\anaconda3\\lib\\site-packages (from notebook>=5.6.0->jupyterthemes) (1.8.0)\n",
      "Requirement already satisfied: ipython-genutils in c:\\users\\tonnzz\\anaconda3\\lib\\site-packages (from notebook>=5.6.0->jupyterthemes) (0.2.0)\n",
      "Requirement already satisfied: nbconvert in c:\\users\\tonnzz\\anaconda3\\lib\\site-packages (from notebook>=5.6.0->jupyterthemes) (6.4.4)\n",
      "Requirement already satisfied: tornado>=6.1 in c:\\users\\tonnzz\\anaconda3\\lib\\site-packages (from notebook>=5.6.0->jupyterthemes) (6.1)\n",
      "Requirement already satisfied: jupyter-client>=5.3.4 in c:\\users\\tonnzz\\anaconda3\\lib\\site-packages (from notebook>=5.6.0->jupyterthemes) (6.1.12)\n",
      "Requirement already satisfied: nest-asyncio>=1.5 in c:\\users\\tonnzz\\anaconda3\\lib\\site-packages (from notebook>=5.6.0->jupyterthemes) (1.5.5)\n",
      "Requirement already satisfied: ipykernel in c:\\users\\tonnzz\\anaconda3\\lib\\site-packages (from notebook>=5.6.0->jupyterthemes) (6.9.1)\n",
      "Requirement already satisfied: terminado>=0.8.3 in c:\\users\\tonnzz\\anaconda3\\lib\\site-packages (from notebook>=5.6.0->jupyterthemes) (0.13.1)\n",
      "Requirement already satisfied: nbformat in c:\\users\\tonnzz\\anaconda3\\lib\\site-packages (from notebook>=5.6.0->jupyterthemes) (5.3.0)\n",
      "Requirement already satisfied: jinja2 in c:\\users\\tonnzz\\anaconda3\\lib\\site-packages (from notebook>=5.6.0->jupyterthemes) (2.11.3)\n",
      "Requirement already satisfied: pywin32>=1.0 in c:\\users\\tonnzz\\anaconda3\\lib\\site-packages (from jupyter-core->jupyterthemes) (302)\n",
      "Requirement already satisfied: wcwidth in c:\\users\\tonnzz\\anaconda3\\lib\\site-packages (from prompt-toolkit!=3.0.0,!=3.0.1,<3.1.0,>=2.0.0->ipython>=5.4.1->jupyterthemes) (0.2.5)\n",
      "Requirement already satisfied: six>=1.5 in c:\\users\\tonnzz\\anaconda3\\lib\\site-packages (from python-dateutil>=2.7->matplotlib>=1.4.3->jupyterthemes) (1.16.0)\n",
      "Requirement already satisfied: pywinpty>=1.1.0 in c:\\users\\tonnzz\\anaconda3\\lib\\site-packages (from terminado>=0.8.3->notebook>=5.6.0->jupyterthemes) (2.0.2)\n",
      "Requirement already satisfied: argon2-cffi-bindings in c:\\users\\tonnzz\\anaconda3\\lib\\site-packages (from argon2-cffi->notebook>=5.6.0->jupyterthemes) (21.2.0)\n",
      "Requirement already satisfied: cffi>=1.0.1 in c:\\users\\tonnzz\\anaconda3\\lib\\site-packages (from argon2-cffi-bindings->argon2-cffi->notebook>=5.6.0->jupyterthemes) (1.15.0)\n",
      "Requirement already satisfied: pycparser in c:\\users\\tonnzz\\anaconda3\\lib\\site-packages (from cffi>=1.0.1->argon2-cffi-bindings->argon2-cffi->notebook>=5.6.0->jupyterthemes) (2.21)\n",
      "Requirement already satisfied: debugpy<2.0,>=1.0.0 in c:\\users\\tonnzz\\anaconda3\\lib\\site-packages (from ipykernel->notebook>=5.6.0->jupyterthemes) (1.5.1)\n",
      "Requirement already satisfied: MarkupSafe>=0.23 in c:\\users\\tonnzz\\anaconda3\\lib\\site-packages (from jinja2->notebook>=5.6.0->jupyterthemes) (2.0.1)\n",
      "Requirement already satisfied: testpath in c:\\users\\tonnzz\\anaconda3\\lib\\site-packages (from nbconvert->notebook>=5.6.0->jupyterthemes) (0.5.0)Note: you may need to restart the kernel to use updated packages.\n",
      "Requirement already satisfied: mistune<2,>=0.8.1 in c:\\users\\tonnzz\\anaconda3\\lib\\site-packages (from nbconvert->notebook>=5.6.0->jupyterthemes) (0.8.4)\n",
      "Requirement already satisfied: entrypoints>=0.2.2 in c:\\users\\tonnzz\\anaconda3\\lib\\site-packages (from nbconvert->notebook>=5.6.0->jupyterthemes) (0.4)\n",
      "Requirement already satisfied: nbclient<0.6.0,>=0.5.0 in c:\\users\\tonnzz\\anaconda3\\lib\\site-packages (from nbconvert->notebook>=5.6.0->jupyterthemes) (0.5.13)\n",
      "Requirement already satisfied: pandocfilters>=1.4.1 in c:\\users\\tonnzz\\anaconda3\\lib\\site-packages (from nbconvert->notebook>=5.6.0->jupyterthemes) (1.5.0)\n",
      "Requirement already satisfied: jupyterlab-pygments in c:\\users\\tonnzz\\anaconda3\\lib\\site-packages (from nbconvert->notebook>=5.6.0->jupyterthemes) (0.1.2)\n",
      "Requirement already satisfied: defusedxml in c:\\users\\tonnzz\\anaconda3\\lib\\site-packages (from nbconvert->notebook>=5.6.0->jupyterthemes) (0.7.1)\n",
      "Requirement already satisfied: bleach in c:\\users\\tonnzz\\anaconda3\\lib\\site-packages (from nbconvert->notebook>=5.6.0->jupyterthemes) (4.1.0)\n",
      "Requirement already satisfied: beautifulsoup4 in c:\\users\\tonnzz\\anaconda3\\lib\\site-packages (from nbconvert->notebook>=5.6.0->jupyterthemes) (4.11.1)\n",
      "Requirement already satisfied: jsonschema>=2.6 in c:\\users\\tonnzz\\anaconda3\\lib\\site-packages (from nbformat->notebook>=5.6.0->jupyterthemes) (4.4.0)\n",
      "Requirement already satisfied: fastjsonschema in c:\\users\\tonnzz\\anaconda3\\lib\\site-packages (from nbformat->notebook>=5.6.0->jupyterthemes) (2.15.1)\n"
     ]
    },
    {
     "name": "stdout",
     "output_type": "stream",
     "text": [
      "\n",
      "Requirement already satisfied: pyrsistent!=0.17.0,!=0.17.1,!=0.17.2,>=0.14.0 in c:\\users\\tonnzz\\anaconda3\\lib\\site-packages (from jsonschema>=2.6->nbformat->notebook>=5.6.0->jupyterthemes) (0.18.0)\n",
      "Requirement already satisfied: attrs>=17.4.0 in c:\\users\\tonnzz\\anaconda3\\lib\\site-packages (from jsonschema>=2.6->nbformat->notebook>=5.6.0->jupyterthemes) (21.4.0)\n",
      "Requirement already satisfied: soupsieve>1.2 in c:\\users\\tonnzz\\anaconda3\\lib\\site-packages (from beautifulsoup4->nbconvert->notebook>=5.6.0->jupyterthemes) (2.3.1)\n",
      "Requirement already satisfied: webencodings in c:\\users\\tonnzz\\anaconda3\\lib\\site-packages (from bleach->nbconvert->notebook>=5.6.0->jupyterthemes) (0.5.1)\n",
      "Requirement already satisfied: asttokens in c:\\users\\tonnzz\\anaconda3\\lib\\site-packages (from stack-data->ipython>=5.4.1->jupyterthemes) (2.0.5)\n",
      "Requirement already satisfied: executing in c:\\users\\tonnzz\\anaconda3\\lib\\site-packages (from stack-data->ipython>=5.4.1->jupyterthemes) (0.8.3)\n",
      "Requirement already satisfied: pure-eval in c:\\users\\tonnzz\\anaconda3\\lib\\site-packages (from stack-data->ipython>=5.4.1->jupyterthemes) (0.2.2)\n"
     ]
    }
   ],
   "source": [
    "pip install jupyterthemes"
   ]
  },
  {
   "cell_type": "code",
   "execution_count": 130,
   "id": "dc98258d",
   "metadata": {},
   "outputs": [
    {
     "name": "stdout",
     "output_type": "stream",
     "text": [
      "Available Themes: \n",
      "   chesterish\n",
      "   grade3\n",
      "   gruvboxd\n",
      "   gruvboxl\n",
      "   monokai\n",
      "   oceans16\n",
      "   onedork\n",
      "   solarizedd\n",
      "   solarizedl\n"
     ]
    }
   ],
   "source": [
    "!jt -l"
   ]
  },
  {
   "cell_type": "code",
   "execution_count": 132,
   "id": "962b06c8",
   "metadata": {},
   "outputs": [],
   "source": [
    "!jt -t oceans16"
   ]
  },
  {
   "cell_type": "code",
   "execution_count": 138,
   "id": "7f9fb156",
   "metadata": {},
   "outputs": [],
   "source": [
    "!jt -t chesterish"
   ]
  },
  {
   "cell_type": "code",
   "execution_count": null,
   "id": "290abab3",
   "metadata": {},
   "outputs": [],
   "source": [
    "#my efforts to change the theme (as seen above) are currently fruitless...I'll get back to it😂"
   ]
  },
  {
   "cell_type": "code",
   "execution_count": 145,
   "id": "f30bcc01",
   "metadata": {},
   "outputs": [
    {
     "name": "stdout",
     "output_type": "stream",
     "text": [
      "31.0\n"
     ]
    }
   ],
   "source": [
    "print(sqrt(961)) #sqrt using math module"
   ]
  },
  {
   "cell_type": "code",
   "execution_count": 147,
   "id": "49b8afd1",
   "metadata": {},
   "outputs": [
    {
     "name": "stdout",
     "output_type": "stream",
     "text": [
      "Enter your favourite Bible Book: Proverbs\n",
      "Your favourite book in the Bible is Proverbs.\n"
     ]
    }
   ],
   "source": [
    "favBibleBk = input(\"Enter your favourite Bible Book: \") #prompts input\n",
    "print(\"Your favourite book in the Bible is \" + favBibleBk + \".\")"
   ]
  },
  {
   "cell_type": "code",
   "execution_count": 151,
   "id": "d1da8857",
   "metadata": {},
   "outputs": [
    {
     "name": "stdout",
     "output_type": "stream",
     "text": [
      "What is your name: Tonny G\n",
      "What is your age: 20\n",
      "Hey Tonny G you are 20.\n"
     ]
    }
   ],
   "source": [
    "name = input(\"What is your name: \")\n",
    "age = input(\"What is your age: \")\n",
    "print(\"Hey \"+ name + \" you are \" + age + \".\")"
   ]
  },
  {
   "cell_type": "code",
   "execution_count": 156,
   "id": "c957a030",
   "metadata": {},
   "outputs": [
    {
     "name": "stdout",
     "output_type": "stream",
     "text": [
      "Simple Program for Adding 2 Numbers!\n",
      "\n",
      "Enter 1st num: 10\n",
      "Enter 2nd num: 29\n",
      "The answer is 1029.\n"
     ]
    }
   ],
   "source": [
    "print(\"Simple Program for Adding 2 Numbers!\\n\")\n",
    "\n",
    "num1 = input(\"Enter 1st num: \")\n",
    "num2 = input(\"Enter 2nd num: \")\n",
    "result = num1 + num2\n",
    "\n",
    "print(\"The answer is \" + result + \".\") #wrong output since python converts input to strings by default"
   ]
  },
  {
   "cell_type": "code",
   "execution_count": 157,
   "id": "16c3e55a",
   "metadata": {},
   "outputs": [
    {
     "name": "stdout",
     "output_type": "stream",
     "text": [
      "Simple Program for Adding 2 Numbers!\n",
      "Enter 1st num: 10\n",
      "Enter 2nd num: 29\n",
      "39.0\n"
     ]
    }
   ],
   "source": [
    "print(\"Simple Program for Adding 2 Numbers!\")\n",
    "\n",
    "num1 = input(\"Enter 1st num: \")\n",
    "num2 = input(\"Enter 2nd num: \")\n",
    "result = float(num1) + float(num2) #float > num since it accomodates decimals\n",
    "\n",
    "print(result)"
   ]
  },
  {
   "cell_type": "code",
   "execution_count": 161,
   "id": "a84618a6",
   "metadata": {},
   "outputs": [
    {
     "name": "stdout",
     "output_type": "stream",
     "text": [
      "Simple MadLibs Game \n",
      "\n",
      "Enter a colour: Roses\n",
      "Enter a car name in plural: Lambos\n",
      "Enter a footballer: Messi\n",
      "Roses are Roses\n",
      "Lambos are blue\n",
      "Messi is awesome\n"
     ]
    }
   ],
   "source": [
    "print(\"Simple MadLibs Game \\n\")\n",
    "colour = input(\"Enter a colour: \")\n",
    "car = input (\"Enter a car name in plural: \")\n",
    "player = input(\"Enter a footballer: \")\n",
    "\n",
    "print(\"Roses are \" + colour) #exclude + sign if no text follows/precedes a variable\n",
    "print(car + \" are blue\")\n",
    "print(player + \" is awesome\")"
   ]
  },
  {
   "cell_type": "code",
   "execution_count": null,
   "id": "2b7d829d",
   "metadata": {},
   "outputs": [],
   "source": []
  }
 ],
 "metadata": {
  "kernelspec": {
   "display_name": "Python 3 (ipykernel)",
   "language": "python",
   "name": "python3"
  },
  "language_info": {
   "codemirror_mode": {
    "name": "ipython",
    "version": 3
   },
   "file_extension": ".py",
   "mimetype": "text/x-python",
   "name": "python",
   "nbconvert_exporter": "python",
   "pygments_lexer": "ipython3",
   "version": "3.9.12"
  }
 },
 "nbformat": 4,
 "nbformat_minor": 5
}
